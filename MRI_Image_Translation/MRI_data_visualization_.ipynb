{
  "nbformat": 4,
  "nbformat_minor": 0,
  "metadata": {
    "colab": {
      "name": "data_visualization .ipynb",
      "provenance": [],
      "authorship_tag": "ABX9TyOmiTEbXoSdrBzmOunUtPMk",
      "include_colab_link": true
    },
    "kernelspec": {
      "name": "python3",
      "display_name": "Python 3"
    },
    "language_info": {
      "name": "python"
    }
  },
  "cells": [
    {
      "cell_type": "markdown",
      "metadata": {
        "id": "view-in-github",
        "colab_type": "text"
      },
      "source": [
        "<a href=\"https://colab.research.google.com/github/pankaj18/AI_for_medicine/blob/master/MRI_Image_Translation/MRI_data_visualization_.ipynb\" target=\"_parent\"><img src=\"https://colab.research.google.com/assets/colab-badge.svg\" alt=\"Open In Colab\"/></a>"
      ]
    },
    {
      "cell_type": "markdown",
      "metadata": {
        "id": "5L-BtHMWxdjM"
      },
      "source": [
        "https://towardsdatascience.com/deep-learning-with-magnetic-resonance-and-computed-tomography-images-e9f32273dcb5"
      ]
    },
    {
      "cell_type": "code",
      "metadata": {
        "id": "NaoCqNS1jP7n"
      },
      "source": [
        "import numpy as np\n",
        "import nibabel as nib\n",
        "import os\n",
        "import torch\n",
        "from torch import nn\n",
        "from torch.utils.data import Dataset,DataLoader\n",
        "import matplotlib.pyplot as plt\n",
        "%matplotlib inline"
      ],
      "execution_count": 17,
      "outputs": []
    },
    {
      "cell_type": "code",
      "metadata": {
        "colab": {
          "base_uri": "https://localhost:8080/"
        },
        "id": "wr97lXjIjXnk",
        "outputId": "a8fca6be-0a88-436e-87aa-993af3ebd348"
      },
      "source": [
        "from google.colab import drive\n",
        "drive.mount('/content/drive/')"
      ],
      "execution_count": 2,
      "outputs": [
        {
          "output_type": "stream",
          "text": [
            "Mounted at /content/drive/\n"
          ],
          "name": "stdout"
        }
      ]
    },
    {
      "cell_type": "code",
      "metadata": {
        "colab": {
          "base_uri": "https://localhost:8080/"
        },
        "id": "XG6nSlbbjtmB",
        "outputId": "8b1981ef-b85d-4d48-f712-16a5afa99f53"
      },
      "source": [
        "ls drive/MyDrive/deep_learning/medical_images/MR_image_translation/dataset/small/"
      ],
      "execution_count": 3,
      "outputs": [
        {
          "output_type": "stream",
          "text": [
            "\u001b[0m\u001b[01;34mt1\u001b[0m/  \u001b[01;34mt2\u001b[0m/\n"
          ],
          "name": "stdout"
        }
      ]
    },
    {
      "cell_type": "code",
      "metadata": {
        "id": "Ls3ELC9Bj9NJ"
      },
      "source": [
        "path=\"drive/MyDrive/deep_learning/medical_images/MR_image_translation/dataset/small/\""
      ],
      "execution_count": 4,
      "outputs": []
    },
    {
      "cell_type": "code",
      "metadata": {
        "id": "-P_R1NNUkGEK"
      },
      "source": [
        "image_t1=nib.load(os.path.join(path,'t1/IXI102-HH-1416-T1_fcm.nii.gz'))"
      ],
      "execution_count": 7,
      "outputs": []
    },
    {
      "cell_type": "code",
      "metadata": {
        "id": "HT0tFWJfkgOO"
      },
      "source": [
        "image_t1_data=image_t1.get_fdata()"
      ],
      "execution_count": 8,
      "outputs": []
    },
    {
      "cell_type": "code",
      "metadata": {
        "colab": {
          "base_uri": "https://localhost:8080/"
        },
        "id": "InVw9_9M_tIW",
        "outputId": "71fed5b4-26f5-4467-cffa-3d07e359ac4c"
      },
      "source": [
        "image_t1_data.shape"
      ],
      "execution_count": 15,
      "outputs": [
        {
          "output_type": "execute_result",
          "data": {
            "text/plain": [
              "(120, 120, 90)"
            ]
          },
          "metadata": {
            "tags": []
          },
          "execution_count": 15
        }
      ]
    },
    {
      "cell_type": "code",
      "metadata": {
        "colab": {
          "base_uri": "https://localhost:8080/"
        },
        "id": "_5ktjssVHuz5",
        "outputId": "5d2584c6-39c8-4e19-b5a8-f32fd9c9004a"
      },
      "source": [
        "image_t1_hdr=image_t1.header\n",
        "print(image_t1_hdr)"
      ],
      "execution_count": 27,
      "outputs": [
        {
          "output_type": "stream",
          "text": [
            "<class 'nibabel.nifti1.Nifti1Header'> object, endian='<'\n",
            "sizeof_hdr      : 348\n",
            "data_type       : b''\n",
            "db_name         : b''\n",
            "extents         : 0\n",
            "session_error   : 0\n",
            "regular         : b'r'\n",
            "dim_info        : 0\n",
            "dim             : [  3 120 120  90   1   1   1   1]\n",
            "intent_p1       : 0.0\n",
            "intent_p2       : 0.0\n",
            "intent_p3       : 0.0\n",
            "intent_code     : none\n",
            "datatype        : float32\n",
            "bitpix          : 32\n",
            "slice_start     : 0\n",
            "pixdim          : [-1.         2.0084033  2.0084033  2.011236   0.         0.\n",
            "  0.         0.       ]\n",
            "vox_offset      : 0.0\n",
            "scl_slope       : nan\n",
            "scl_inter       : nan\n",
            "slice_end       : 0\n",
            "slice_code      : unknown\n",
            "xyzt_units      : 2\n",
            "cal_max         : 0.0\n",
            "cal_min         : 0.0\n",
            "slice_duration  : 0.0\n",
            "toffset         : 0.0\n",
            "glmax           : 0\n",
            "glmin           : 0\n",
            "descrip         : b''\n",
            "aux_file        : b''\n",
            "qform_code      : scanner\n",
            "sform_code      : unknown\n",
            "quatern_b       : 0.49093527\n",
            "quatern_c       : -0.5353829\n",
            "quatern_d       : -0.4395\n",
            "qoffset_x       : -88.24805\n",
            "qoffset_y       : 116.09022\n",
            "qoffset_z       : -133.65851\n",
            "srow_x          : [0. 0. 0. 0.]\n",
            "srow_y          : [0. 0. 0. 0.]\n",
            "srow_z          : [0. 0. 0. 0.]\n",
            "intent_name     : b''\n",
            "magic           : b'n+1'\n"
          ],
          "name": "stdout"
        }
      ]
    },
    {
      "cell_type": "code",
      "metadata": {
        "colab": {
          "base_uri": "https://localhost:8080/"
        },
        "id": "HMXfoQAQKJox",
        "outputId": "872c01b7-7b9b-43f4-dcf7-551b7e1fc575"
      },
      "source": [
        "image_t1_affine=image_t1.affine\n",
        "image_t1_affine"
      ],
      "execution_count": 29,
      "outputs": [
        {
          "output_type": "execute_result",
          "data": {
            "text/plain": [
              "array([[ 8.11590491e-02, -1.22972574e-01,  2.00581647e+00,\n",
              "        -8.82480469e+01],\n",
              "       [-1.98856914e+00,  2.64395493e-01,  9.69436270e-02,\n",
              "         1.16090218e+02],\n",
              "       [ 2.69610457e-01,  1.98712269e+00,  1.11230654e-01,\n",
              "        -1.33658508e+02],\n",
              "       [ 0.00000000e+00,  0.00000000e+00,  0.00000000e+00,\n",
              "         1.00000000e+00]])"
            ]
          },
          "metadata": {
            "tags": []
          },
          "execution_count": 29
        }
      ]
    },
    {
      "cell_type": "code",
      "metadata": {
        "id": "CNquPQgS8znT"
      },
      "source": [
        "image_t2=nib.load(os.path.join(path,'t2/IXI102-HH-1416-T2_reg_fcm.nii.gz'))\n",
        "image_t2_data=image_t2.get_fdata()"
      ],
      "execution_count": 14,
      "outputs": []
    },
    {
      "cell_type": "code",
      "metadata": {
        "colab": {
          "base_uri": "https://localhost:8080/"
        },
        "id": "xE6q4p1P_yAv",
        "outputId": "9d333d5c-66e8-4b61-9011-552f6b5a31af"
      },
      "source": [
        "image_t2_data.shape"
      ],
      "execution_count": 16,
      "outputs": [
        {
          "output_type": "execute_result",
          "data": {
            "text/plain": [
              "(120, 120, 90)"
            ]
          },
          "metadata": {
            "tags": []
          },
          "execution_count": 16
        }
      ]
    },
    {
      "cell_type": "code",
      "metadata": {
        "colab": {
          "base_uri": "https://localhost:8080/"
        },
        "id": "uCRoh4WBILb7",
        "outputId": "b2f27629-f94f-45f2-c245-5c2201b856f5"
      },
      "source": [
        "image_t2_hdr=image_t2.header\n",
        "print(image_t2_hdr)"
      ],
      "execution_count": 28,
      "outputs": [
        {
          "output_type": "stream",
          "text": [
            "<class 'nibabel.nifti1.Nifti1Header'> object, endian='<'\n",
            "sizeof_hdr      : 348\n",
            "data_type       : b''\n",
            "db_name         : b''\n",
            "extents         : 0\n",
            "session_error   : 0\n",
            "regular         : b'r'\n",
            "dim_info        : 0\n",
            "dim             : [  3 120 120  90   1   1   1   1]\n",
            "intent_p1       : 0.0\n",
            "intent_p2       : 0.0\n",
            "intent_p3       : 0.0\n",
            "intent_code     : none\n",
            "datatype        : float32\n",
            "bitpix          : 32\n",
            "slice_start     : 0\n",
            "pixdim          : [-1.         2.0084033  2.0084033  2.011236   0.         0.\n",
            "  0.         0.       ]\n",
            "vox_offset      : 0.0\n",
            "scl_slope       : nan\n",
            "scl_inter       : nan\n",
            "slice_end       : 0\n",
            "slice_code      : unknown\n",
            "xyzt_units      : 2\n",
            "cal_max         : 0.0\n",
            "cal_min         : 0.0\n",
            "slice_duration  : 0.0\n",
            "toffset         : 0.0\n",
            "glmax           : 0\n",
            "glmin           : 0\n",
            "descrip         : b''\n",
            "aux_file        : b''\n",
            "qform_code      : scanner\n",
            "sform_code      : unknown\n",
            "quatern_b       : 0.49093527\n",
            "quatern_c       : -0.5353829\n",
            "quatern_d       : -0.4395\n",
            "qoffset_x       : -88.24805\n",
            "qoffset_y       : 116.09022\n",
            "qoffset_z       : -133.65851\n",
            "srow_x          : [0. 0. 0. 0.]\n",
            "srow_y          : [0. 0. 0. 0.]\n",
            "srow_z          : [0. 0. 0. 0.]\n",
            "intent_name     : b''\n",
            "magic           : b'n+1'\n"
          ],
          "name": "stdout"
        }
      ]
    },
    {
      "cell_type": "code",
      "metadata": {
        "colab": {
          "base_uri": "https://localhost:8080/"
        },
        "id": "Arc5irhiKGeW",
        "outputId": "f8492198-fab4-4cbc-fc12-9b6ccae9598d"
      },
      "source": [
        "image_t2_affine=image_t2.affine\n",
        "image_t2_affine"
      ],
      "execution_count": 30,
      "outputs": [
        {
          "output_type": "execute_result",
          "data": {
            "text/plain": [
              "array([[ 8.11590491e-02, -1.22972574e-01,  2.00581647e+00,\n",
              "        -8.82480469e+01],\n",
              "       [-1.98856914e+00,  2.64395493e-01,  9.69436270e-02,\n",
              "         1.16090218e+02],\n",
              "       [ 2.69610457e-01,  1.98712269e+00,  1.11230654e-01,\n",
              "        -1.33658508e+02],\n",
              "       [ 0.00000000e+00,  0.00000000e+00,  0.00000000e+00,\n",
              "         1.00000000e+00]])"
            ]
          },
          "metadata": {
            "tags": []
          },
          "execution_count": 30
        }
      ]
    },
    {
      "cell_type": "code",
      "metadata": {
        "colab": {
          "base_uri": "https://localhost:8080/"
        },
        "id": "_J41XA8b9J2d",
        "outputId": "90644564-f2f8-4686-ed8f-907ac50cd6c6"
      },
      "source": [
        "os.listdir(os.path.join(path,'t1'))"
      ],
      "execution_count": 12,
      "outputs": [
        {
          "output_type": "execute_result",
          "data": {
            "text/plain": [
              "['IXI102-HH-1416-T1_fcm.nii.gz',\n",
              " 'IXI104-HH-1450-T1_fcm.nii.gz',\n",
              " 'IXI105-HH-1471-T1_fcm.nii.gz',\n",
              " 'IXI126-HH-1437-T1_fcm.nii.gz',\n",
              " 'IXI127-HH-1451-T1_fcm.nii.gz',\n",
              " 'IXI128-HH-1470-T1_fcm.nii.gz',\n",
              " 'IXI130-HH-1528-T1_fcm.nii.gz',\n",
              " 'IXI131-HH-1527-T1_fcm.nii.gz',\n",
              " 'IXI132-HH-1415-T1_fcm.nii.gz',\n",
              " 'IXI136-HH-1452-T1_fcm.nii.gz',\n",
              " 'IXI137-HH-1472-T1_fcm.nii.gz',\n",
              " 'IXI146-HH-1389-T1_fcm.nii.gz',\n",
              " 'IXI148-HH-1453-T1_fcm.nii.gz',\n",
              " 'IXI150-HH-1550-T1_fcm.nii.gz',\n",
              " 'IXI159-HH-1549-T1_fcm.nii.gz',\n",
              " 'IXI160-HH-1637-T1_fcm.nii.gz',\n",
              " 'IXI161-HH-2533-T1_fcm.nii.gz',\n",
              " 'IXI162-HH-1548-T1_fcm.nii.gz',\n",
              " 'IXI163-HH-1621-T1_fcm.nii.gz',\n",
              " 'IXI165-HH-1589-T1_fcm.nii.gz',\n",
              " 'IXI167-HH-1569-T1_fcm.nii.gz',\n",
              " 'IXI168-HH-1607-T1_fcm.nii.gz',\n",
              " 'IXI173-HH-1590-T1_fcm.nii.gz',\n",
              " 'IXI174-HH-1571-T1_fcm.nii.gz',\n",
              " 'IXI175-HH-1570-T1_fcm.nii.gz',\n",
              " 'IXI176-HH-1604-T1_fcm.nii.gz',\n",
              " 'IXI180-HH-1605-T1_fcm.nii.gz',\n",
              " 'IXI195-HH-1620-T1_fcm.nii.gz']"
            ]
          },
          "metadata": {
            "tags": []
          },
          "execution_count": 12
        }
      ]
    },
    {
      "cell_type": "code",
      "metadata": {
        "colab": {
          "base_uri": "https://localhost:8080/"
        },
        "id": "VIUyA0WJ9iFF",
        "outputId": "daf44cd3-5f69-4f65-e585-a2b140043ce6"
      },
      "source": [
        "os.listdir(os.path.join(path,'t2'))"
      ],
      "execution_count": 13,
      "outputs": [
        {
          "output_type": "execute_result",
          "data": {
            "text/plain": [
              "['IXI102-HH-1416-T2_reg_fcm.nii.gz',\n",
              " 'IXI104-HH-1450-T2_reg_fcm.nii.gz',\n",
              " 'IXI105-HH-1471-T2_reg_fcm.nii.gz',\n",
              " 'IXI126-HH-1437-T2_reg_fcm.nii.gz',\n",
              " 'IXI127-HH-1451-T2_reg_fcm.nii.gz',\n",
              " 'IXI128-HH-1470-T2_reg_fcm.nii.gz',\n",
              " 'IXI130-HH-1528-T2_reg_fcm.nii.gz',\n",
              " 'IXI131-HH-1527-T2_reg_fcm.nii.gz',\n",
              " 'IXI132-HH-1415-T2_reg_fcm.nii.gz',\n",
              " 'IXI136-HH-1452-T2_reg_fcm.nii.gz',\n",
              " 'IXI137-HH-1472-T2_reg_fcm.nii.gz',\n",
              " 'IXI146-HH-1389-T2_reg_fcm.nii.gz',\n",
              " 'IXI148-HH-1453-T2_reg_fcm.nii.gz',\n",
              " 'IXI150-HH-1550-T2_reg_fcm.nii.gz',\n",
              " 'IXI159-HH-1549-T2_reg_fcm.nii.gz',\n",
              " 'IXI160-HH-1637-T2_reg_fcm.nii.gz',\n",
              " 'IXI161-HH-2533-T2_reg_fcm.nii.gz',\n",
              " 'IXI162-HH-1548-T2_reg_fcm.nii.gz',\n",
              " 'IXI163-HH-1621-T2_reg_fcm.nii.gz',\n",
              " 'IXI165-HH-1589-T2_reg_fcm.nii.gz',\n",
              " 'IXI167-HH-1569-T2_reg_fcm.nii.gz',\n",
              " 'IXI168-HH-1607-T2_reg_fcm.nii.gz',\n",
              " 'IXI173-HH-1590-T2_reg_fcm.nii.gz',\n",
              " 'IXI174-HH-1571-T2_reg_fcm.nii.gz',\n",
              " 'IXI175-HH-1570-T2_reg_fcm.nii.gz',\n",
              " 'IXI176-HH-1604-T2_reg_fcm.nii.gz',\n",
              " 'IXI180-HH-1605-T2_reg_fcm.nii.gz',\n",
              " 'IXI195-HH-1620-T2_reg_fcm.nii.gz']"
            ]
          },
          "metadata": {
            "tags": []
          },
          "execution_count": 13
        }
      ]
    },
    {
      "cell_type": "markdown",
      "metadata": {
        "id": "E_6s3Pr4AXAy"
      },
      "source": [
        "Visualze Dataset"
      ]
    },
    {
      "cell_type": "code",
      "metadata": {
        "id": "r64s32gTAbWP"
      },
      "source": [
        "def show_slices(slices):\n",
        "  \"function to display row of image slices\"\n",
        "  fig,axes=plt.subplots(1,len(slices))\n",
        "  for i,slice in enumerate(slices):\n",
        "    print(slice.shape)\n",
        "    axes[i].imshow(slice.T,cmap='gray',origin=\"lower\")"
      ],
      "execution_count": 21,
      "outputs": []
    },
    {
      "cell_type": "code",
      "metadata": {
        "colab": {
          "base_uri": "https://localhost:8080/",
          "height": 199
        },
        "id": "eyazDCp6Cp4T",
        "outputId": "4257c7b2-61fd-4846-f395-55fc98ff4310"
      },
      "source": [
        "slice_0=image_t1_data[15,:,:]\n",
        "slice_1=image_t1_data[:,20,:]\n",
        "slice_2=image_t1_data[:,:,30]\n",
        "show_slices([slice_0,slice_1,slice_2])"
      ],
      "execution_count": 22,
      "outputs": [
        {
          "output_type": "stream",
          "text": [
            "(120, 90)\n",
            "(120, 90)\n",
            "(120, 120)\n"
          ],
          "name": "stdout"
        },
        {
          "output_type": "display_data",
          "data": {
            "image/png": "[encoded data removed]",
            "text/plain": [
              "<Figure size 432x288 with 3 Axes>"
            ]
          },
          "metadata": {
            "tags": [],
            "needs_background": "light"
          }
        }
      ]
    },
    {
      "cell_type": "code",
      "metadata": {
        "colab": {
          "base_uri": "https://localhost:8080/",
          "height": 199
        },
        "id": "_yCeG6urEAJ0",
        "outputId": "a0b1763d-d7a3-4da2-b197-716e32d37a9f"
      },
      "source": [
        "slice_0=image_t2_data[15,:,:]\n",
        "slice_1=image_t2_data[:,20,:]\n",
        "slice_2=image_t2_data[:,:,30]\n",
        "show_slices([slice_0,slice_1,slice_2])"
      ],
      "execution_count": 23,
      "outputs": [
        {
          "output_type": "stream",
          "text": [
            "(120, 90)\n",
            "(120, 90)\n",
            "(120, 120)\n"
          ],
          "name": "stdout"
        },
        {
          "output_type": "display_data",
          "data": {
            "image/png": "[encoded data removed]",
            "text/plain": [
              "<Figure size 432x288 with 3 Axes>"
            ]
          },
          "metadata": {
            "tags": [],
            "needs_background": "light"
          }
        }
      ]
    }
  ]
}