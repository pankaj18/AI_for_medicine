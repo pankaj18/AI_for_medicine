{
  "nbformat": 4,
  "nbformat_minor": 0,
  "metadata": {
    "colab": {
      "name": "get_dataset.ipynb",
      "provenance": [],
      "authorship_tag": "ABX9TyOEQZt3BeNirSWLEOQmIxLq",
      "include_colab_link": true
    },
    "kernelspec": {
      "name": "python3",
      "display_name": "Python 3"
    },
    "language_info": {
      "name": "python"
    }
  },
  "cells": [
    {
      "cell_type": "markdown",
      "metadata": {
        "id": "view-in-github",
        "colab_type": "text"
      },
      "source": [
        "<a href=\"https://colab.research.google.com/github/pankaj18/AI_for_medicine/blob/master/MRI_Image_Translation/get_dataset.ipynb\" target=\"_parent\"><img src=\"https://colab.research.google.com/assets/colab-badge.svg\" alt=\"Open In Colab\"/></a>"
      ]
    },
    {
      "cell_type": "code",
      "metadata": {
        "colab": {
          "base_uri": "https://localhost:8080/"
        },
        "id": "dk7KNRv2R54t",
        "outputId": "fc3bdebc-4b5f-4c91-d21d-5ad1f83d4a18"
      },
      "source": [
        "!wget https://lp-prod-resources.s3.amazonaws.com/103/resources/small_data.zip"
      ],
      "execution_count": 1,
      "outputs": [
        {
          "output_type": "stream",
          "text": [
            "--2021-05-01 04:55:50--  https://lp-prod-resources.s3.amazonaws.com/103/resources/small_data.zip\n",
            "Resolving lp-prod-resources.s3.amazonaws.com (lp-prod-resources.s3.amazonaws.com)... 52.218.182.225\n",
            "Connecting to lp-prod-resources.s3.amazonaws.com (lp-prod-resources.s3.amazonaws.com)|52.218.182.225|:443... connected.\n",
            "HTTP request sent, awaiting response... 200 OK\n",
            "Length: 225925388 (215M) [application/zip]\n",
            "Saving to: ‘small_data.zip’\n",
            "\n",
            "small_data.zip      100%[===================>] 215.46M  21.9MB/s    in 10s     \n",
            "\n",
            "2021-05-01 04:56:01 (20.5 MB/s) - ‘small_data.zip’ saved [225925388/225925388]\n",
            "\n"
          ],
          "name": "stdout"
        }
      ]
    },
    {
      "cell_type": "code",
      "metadata": {
        "colab": {
          "base_uri": "https://localhost:8080/"
        },
        "id": "550L6O-ISBjn",
        "outputId": "ffa61c66-3406-457b-aa30-6a693d873e84"
      },
      "source": [
        "from google.colab import drive\n",
        "drive.mount('/content/drive/')"
      ],
      "execution_count": 3,
      "outputs": [
        {
          "output_type": "stream",
          "text": [
            "Mounted at /content/drive/\n"
          ],
          "name": "stdout"
        }
      ]
    },
    {
      "cell_type": "code",
      "metadata": {
        "colab": {
          "base_uri": "https://localhost:8080/"
        },
        "id": "kBjTEkPsSRFY",
        "outputId": "ea8e49ff-f940-4aed-95a2-0276d736cfeb"
      },
      "source": [
        "!unzip small_data.zip"
      ],
      "execution_count": 4,
      "outputs": [
        {
          "output_type": "stream",
          "text": [
            "Archive:  small_data.zip\n",
            "   creating: small/\n",
            "   creating: small/t1/\n",
            "  inflating: small/t1/IXI102-HH-1416-T1_fcm.nii.gz  \n",
            "  inflating: small/t1/IXI104-HH-1450-T1_fcm.nii.gz  \n",
            "  inflating: small/t1/IXI105-HH-1471-T1_fcm.nii.gz  \n",
            "  inflating: small/t1/IXI126-HH-1437-T1_fcm.nii.gz  \n",
            "  inflating: small/t1/IXI127-HH-1451-T1_fcm.nii.gz  \n",
            "  inflating: small/t1/IXI128-HH-1470-T1_fcm.nii.gz  \n",
            "  inflating: small/t1/IXI130-HH-1528-T1_fcm.nii.gz  \n",
            "  inflating: small/t1/IXI131-HH-1527-T1_fcm.nii.gz  \n",
            "  inflating: small/t1/IXI132-HH-1415-T1_fcm.nii.gz  \n",
            "  inflating: small/t1/IXI136-HH-1452-T1_fcm.nii.gz  \n",
            "  inflating: small/t1/IXI137-HH-1472-T1_fcm.nii.gz  \n",
            "  inflating: small/t1/IXI146-HH-1389-T1_fcm.nii.gz  \n",
            "  inflating: small/t1/IXI148-HH-1453-T1_fcm.nii.gz  \n",
            "  inflating: small/t1/IXI150-HH-1550-T1_fcm.nii.gz  \n",
            "  inflating: small/t1/IXI159-HH-1549-T1_fcm.nii.gz  \n",
            "  inflating: small/t1/IXI160-HH-1637-T1_fcm.nii.gz  \n",
            "  inflating: small/t1/IXI161-HH-2533-T1_fcm.nii.gz  \n",
            "  inflating: small/t1/IXI162-HH-1548-T1_fcm.nii.gz  \n",
            "  inflating: small/t1/IXI163-HH-1621-T1_fcm.nii.gz  \n",
            "  inflating: small/t1/IXI165-HH-1589-T1_fcm.nii.gz  \n",
            "  inflating: small/t1/IXI167-HH-1569-T1_fcm.nii.gz  \n",
            "  inflating: small/t1/IXI168-HH-1607-T1_fcm.nii.gz  \n",
            "  inflating: small/t1/IXI173-HH-1590-T1_fcm.nii.gz  \n",
            "  inflating: small/t1/IXI174-HH-1571-T1_fcm.nii.gz  \n",
            "  inflating: small/t1/IXI175-HH-1570-T1_fcm.nii.gz  \n",
            "  inflating: small/t1/IXI176-HH-1604-T1_fcm.nii.gz  \n",
            "  inflating: small/t1/IXI180-HH-1605-T1_fcm.nii.gz  \n",
            "  inflating: small/t1/IXI195-HH-1620-T1_fcm.nii.gz  \n",
            "   creating: small/t2/\n",
            "  inflating: small/t2/IXI102-HH-1416-T2_reg_fcm.nii.gz  \n",
            "  inflating: small/t2/IXI104-HH-1450-T2_reg_fcm.nii.gz  \n",
            "  inflating: small/t2/IXI105-HH-1471-T2_reg_fcm.nii.gz  \n",
            "  inflating: small/t2/IXI126-HH-1437-T2_reg_fcm.nii.gz  \n",
            "  inflating: small/t2/IXI127-HH-1451-T2_reg_fcm.nii.gz  \n",
            "  inflating: small/t2/IXI128-HH-1470-T2_reg_fcm.nii.gz  \n",
            "  inflating: small/t2/IXI130-HH-1528-T2_reg_fcm.nii.gz  \n",
            "  inflating: small/t2/IXI131-HH-1527-T2_reg_fcm.nii.gz  \n",
            "  inflating: small/t2/IXI132-HH-1415-T2_reg_fcm.nii.gz  \n",
            "  inflating: small/t2/IXI136-HH-1452-T2_reg_fcm.nii.gz  \n",
            "  inflating: small/t2/IXI137-HH-1472-T2_reg_fcm.nii.gz  \n",
            "  inflating: small/t2/IXI146-HH-1389-T2_reg_fcm.nii.gz  \n",
            "  inflating: small/t2/IXI148-HH-1453-T2_reg_fcm.nii.gz  \n",
            "  inflating: small/t2/IXI150-HH-1550-T2_reg_fcm.nii.gz  \n",
            "  inflating: small/t2/IXI159-HH-1549-T2_reg_fcm.nii.gz  \n",
            "  inflating: small/t2/IXI160-HH-1637-T2_reg_fcm.nii.gz  \n",
            "  inflating: small/t2/IXI161-HH-2533-T2_reg_fcm.nii.gz  \n",
            "  inflating: small/t2/IXI162-HH-1548-T2_reg_fcm.nii.gz  \n",
            "  inflating: small/t2/IXI163-HH-1621-T2_reg_fcm.nii.gz  \n",
            "  inflating: small/t2/IXI165-HH-1589-T2_reg_fcm.nii.gz  \n",
            "  inflating: small/t2/IXI167-HH-1569-T2_reg_fcm.nii.gz  \n",
            "  inflating: small/t2/IXI168-HH-1607-T2_reg_fcm.nii.gz  \n",
            "  inflating: small/t2/IXI173-HH-1590-T2_reg_fcm.nii.gz  \n",
            "  inflating: small/t2/IXI174-HH-1571-T2_reg_fcm.nii.gz  \n",
            "  inflating: small/t2/IXI175-HH-1570-T2_reg_fcm.nii.gz  \n",
            "  inflating: small/t2/IXI176-HH-1604-T2_reg_fcm.nii.gz  \n",
            "  inflating: small/t2/IXI180-HH-1605-T2_reg_fcm.nii.gz  \n",
            "  inflating: small/t2/IXI195-HH-1620-T2_reg_fcm.nii.gz  \n"
          ],
          "name": "stdout"
        }
      ]
    },
    {
      "cell_type": "code",
      "metadata": {
        "colab": {
          "base_uri": "https://localhost:8080/"
        },
        "id": "8fz6KwrbSisQ",
        "outputId": "8f4f9d0e-9868-4bbf-b8c3-c132be65af8b"
      },
      "source": [
        "ls"
      ],
      "execution_count": 5,
      "outputs": [
        {
          "output_type": "stream",
          "text": [
            "\u001b[0m\u001b[01;34mdrive\u001b[0m/  \u001b[01;34msample_data\u001b[0m/  \u001b[01;34msmall\u001b[0m/  small_data.zip\n"
          ],
          "name": "stdout"
        }
      ]
    },
    {
      "cell_type": "code",
      "metadata": {
        "colab": {
          "base_uri": "https://localhost:8080/"
        },
        "id": "jwpAMER6Sk-j",
        "outputId": "eec07883-de06-4a50-95d5-55ef7987b2cb"
      },
      "source": [
        "ls small/t1/"
      ],
      "execution_count": 7,
      "outputs": [
        {
          "output_type": "stream",
          "text": [
            "IXI102-HH-1416-T1_fcm.nii.gz  IXI159-HH-1549-T1_fcm.nii.gz\n",
            "IXI104-HH-1450-T1_fcm.nii.gz  IXI160-HH-1637-T1_fcm.nii.gz\n",
            "IXI105-HH-1471-T1_fcm.nii.gz  IXI161-HH-2533-T1_fcm.nii.gz\n",
            "IXI126-HH-1437-T1_fcm.nii.gz  IXI162-HH-1548-T1_fcm.nii.gz\n",
            "IXI127-HH-1451-T1_fcm.nii.gz  IXI163-HH-1621-T1_fcm.nii.gz\n",
            "IXI128-HH-1470-T1_fcm.nii.gz  IXI165-HH-1589-T1_fcm.nii.gz\n",
            "IXI130-HH-1528-T1_fcm.nii.gz  IXI167-HH-1569-T1_fcm.nii.gz\n",
            "IXI131-HH-1527-T1_fcm.nii.gz  IXI168-HH-1607-T1_fcm.nii.gz\n",
            "IXI132-HH-1415-T1_fcm.nii.gz  IXI173-HH-1590-T1_fcm.nii.gz\n",
            "IXI136-HH-1452-T1_fcm.nii.gz  IXI174-HH-1571-T1_fcm.nii.gz\n",
            "IXI137-HH-1472-T1_fcm.nii.gz  IXI175-HH-1570-T1_fcm.nii.gz\n",
            "IXI146-HH-1389-T1_fcm.nii.gz  IXI176-HH-1604-T1_fcm.nii.gz\n",
            "IXI148-HH-1453-T1_fcm.nii.gz  IXI180-HH-1605-T1_fcm.nii.gz\n",
            "IXI150-HH-1550-T1_fcm.nii.gz  IXI195-HH-1620-T1_fcm.nii.gz\n"
          ],
          "name": "stdout"
        }
      ]
    },
    {
      "cell_type": "code",
      "metadata": {
        "id": "7rWZ9aDsSnZR"
      },
      "source": [
        "ls drive/MyDrive/deep_learning/medical_images/MR_image_translation/dataset/"
      ],
      "execution_count": 12,
      "outputs": []
    },
    {
      "cell_type": "code",
      "metadata": {
        "id": "tAhj9wLETDfG"
      },
      "source": [
        "!cp -r small drive/MyDrive/deep_learning/medical_images/MR_image_translation/dataset/"
      ],
      "execution_count": 14,
      "outputs": []
    },
    {
      "cell_type": "code",
      "metadata": {
        "id": "x3yFYpuqT6mV"
      },
      "source": [
        ""
      ],
      "execution_count": null,
      "outputs": []
    }
  ]
}